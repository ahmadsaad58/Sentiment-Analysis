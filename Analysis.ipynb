{
 "cells": [
  {
   "cell_type": "markdown",
   "metadata": {},
   "source": [
    "## Sentiment Analysis for IMDB Movie Reviews using SKLearn\n",
    "\n",
    "The [dataset](http://ai.stanford.edu/~amaas/data/sentiment/) was compiled by Andrew Maas and had **50,000** movie reviews from IMDB. It is split into *25k* for training and *25k* for testing. The movie ratings on IMDB can range from 1 to 10. Movies with (less than or equal to) ≤ 4 stars are labeled as negative while movies with (greater than or equal to) ≥ 7 stars are labeled as positive. Reviews with 5 or 6 starts were left out of the dataset.\n",
    "\n",
    "I will use a cleaned up version of the dataset with just the ratings and reviews"
   ]
  },
  {
   "cell_type": "code",
   "execution_count": 47,
   "metadata": {},
   "outputs": [
    {
     "name": "stdout",
     "output_type": "stream",
     "text": [
      "0.21.3\n",
      "3.4.5\n"
     ]
    }
   ],
   "source": [
    "# versions \n",
    "import sklearn, nltk\n",
    "print(sklearn.__version__)\n",
    "print(nltk.__version__)"
   ]
  },
  {
   "cell_type": "code",
   "execution_count": 48,
   "metadata": {},
   "outputs": [
    {
     "name": "stdout",
     "output_type": "stream",
     "text": [
      "Bromwell High is a cartoon comedy. It ran at the same time as some other programs about school life, such as \"Teachers\". My 35 years in the teaching profession lead me to believe that Bromwell High's satire is much closer to reality than is \"Teachers\". The scramble to survive financially, the insightful students who can see right through their pathetic teachers' pomp, the pettiness of the whole situation, all remind me of the schools I knew and their students. When I saw the episode in which a student repeatedly tried to burn down the school, I immediately recalled ......... at .......... High. A classic line: INSPECTOR: I'm here to sack one of your teachers. STUDENT: Welcome to Bromwell High. I expect that many adults of my age think that Bromwell High is far fetched. What a pity that it isn't!\n"
     ]
    }
   ],
   "source": [
    "# create Train and Test \n",
    "reviews_train = [line.strip() for line in open('movie_data/full_train.txt', 'r')]\n",
    "reviews_test = [line.strip() for line in open('movie_data/full_test.txt', 'r')]\n",
    "print(reviews_train[0])"
   ]
  },
  {
   "cell_type": "code",
   "execution_count": 49,
   "metadata": {},
   "outputs": [],
   "source": [
    "# clean the data\n",
    "import re\n",
    "\n",
    "REPLACE_NO_SPACE = re.compile(\"[.;:!\\'?,\\\"()\\[\\]]\")\n",
    "REPLACE_SPACE = re.compile(\"(<br\\s*/><br\\s*/>)|(\\-)|(\\/)\")\n",
    "\n",
    "def preprocess_reviews(reviews):\n",
    "    reviews = [REPLACE_NO_SPACE.sub('', line.lower()) for line in reviews]\n",
    "    reviews = [REPLACE_SPACE.sub(' ', line) for line in reviews]\n",
    "    return reviews\n",
    "\n",
    "reviews_train_clean = preprocess_reviews(reviews_train)\n",
    "reviews_test_clean = preprocess_reviews(reviews_test)"
   ]
  },
  {
   "cell_type": "code",
   "execution_count": 50,
   "metadata": {},
   "outputs": [
    {
     "name": "stdout",
     "output_type": "stream",
     "text": [
      "bromwell high is a cartoon comedy it ran at the same time as some other programs about school life such as teachers my 35 years in the teaching profession lead me to believe that bromwell highs satire is much closer to reality than is teachers the scramble to survive financially the insightful students who can see right through their pathetic teachers pomp the pettiness of the whole situation all remind me of the schools i knew and their students when i saw the episode in which a student repeatedly tried to burn down the school i immediately recalled  at  high a classic line inspector im here to sack one of your teachers student welcome to bromwell high i expect that many adults of my age think that bromwell high is far fetched what a pity that it isnt\n"
     ]
    }
   ],
   "source": [
    "print(reviews_train_clean[0])"
   ]
  },
  {
   "cell_type": "code",
   "execution_count": 51,
   "metadata": {},
   "outputs": [],
   "source": [
    "# count vectorization \n",
    "from sklearn.feature_extraction.text import CountVectorizer\n",
    "\n",
    "cv = CountVectorizer(binary=True)\n",
    "cv.fit(reviews_train_clean)\n",
    "X = cv.transform(reviews_train_clean)\n",
    "X_final_test = cv.transform(reviews_test_clean)"
   ]
  },
  {
   "cell_type": "code",
   "execution_count": 52,
   "metadata": {},
   "outputs": [
    {
     "name": "stdout",
     "output_type": "stream",
     "text": [
      "Accuracy for C = 0.01: 87.29599999999999%\n",
      "Accuracy for C = 0.05: 87.968%\n",
      "Accuracy for C = 0.25: 87.712%\n",
      "Accuracy for C = 0.5: 87.376%\n",
      "Accuracy for C = 1: 87.136%\n"
     ]
    }
   ],
   "source": [
    "# building the model\n",
    "from sklearn.linear_model import LogisticRegression\n",
    "from sklearn.model_selection import train_test_split\n",
    "from sklearn.metrics import accuracy_score\n",
    "\n",
    "# first 12.5k are positive and next 12.5k are negative\n",
    "labels = [1 if i < 12500 else 0 for i in range(25000)]\n",
    "\n",
    "X_train, X_test, y_train, y_test = train_test_split(X, labels, train_size=0.75)\n",
    "\n",
    "for c in [0.01, 0.05, 0.25, 0.5, 1]:\n",
    "    lr = LogisticRegression(C=c, solver='liblinear')\n",
    "    lr.fit(X_train, y_train)\n",
    "    print('Accuracy for C = {}: {}%'.format(c, accuracy_score(y_test, lr.predict(X_test)) * 100))\n"
   ]
  },
  {
   "cell_type": "code",
   "execution_count": 53,
   "metadata": {},
   "outputs": [
    {
     "name": "stdout",
     "output_type": "stream",
     "text": [
      "Final Accuracy of 86.64%\n"
     ]
    }
   ],
   "source": [
    "# Testing the model\n",
    "final_lr = LogisticRegression(C=0.05, solver='liblinear')\n",
    "final_lr.fit(X, labels)\n",
    "print('Final Accuracy of {}%'.format(accuracy_score(labels, lr.predict(X_final_test)) * 100))"
   ]
  },
  {
   "cell_type": "code",
   "execution_count": 54,
   "metadata": {},
   "outputs": [
    {
     "name": "stdout",
     "output_type": "stream",
     "text": [
      "Best Positive Scores\n",
      "('excellent', 0.9292549111870664)\n",
      "('perfect', 0.7907005791290077)\n",
      "('great', 0.6745323547742257)\n",
      "('amazing', 0.6127039928254254)\n",
      "('superb', 0.6019368002203161)\n",
      "\n",
      "Best Negative Scores\n",
      "('worst', -1.3645958977380297)\n",
      "('waste', -1.166424205957553)\n",
      "('awful', -1.032418942642618)\n",
      "('poorly', -0.8752018765326353)\n",
      "('boring', -0.8563543412064868)\n"
     ]
    }
   ],
   "source": [
    "# Sanity Check\n",
    "feature_to_coef = {word: coef for word, coef in zip(cv.get_feature_names(), final_lr.coef_[0])}\n",
    "\n",
    "print('Best Positive Scores')\n",
    "for best_pos in sorted(feature_to_coef.items(), key=lambda x: x[1], reverse=True)[:5]:\n",
    "    print(best_pos)\n",
    "\n",
    "print('\\nBest Negative Scores')\n",
    "for best_neg in sorted(feature_to_coef.items(), key=lambda x: x[1])[:5]:\n",
    "    print(best_neg)                                             "
   ]
  },
  {
   "cell_type": "code",
   "execution_count": 55,
   "metadata": {},
   "outputs": [
    {
     "name": "stdout",
     "output_type": "stream",
     "text": [
      "bromwell high cartoon comedy ran time programs school life teachers 35 years teaching profession lead believe bromwell highs satire much closer reality teachers scramble survive financially insightful students see right pathetic teachers pomp pettiness whole situation remind schools knew students saw episode student repeatedly tried burn school immediately recalled high classic line inspector im sack one teachers student welcome bromwell high expect many adults age think bromwell high far fetched pity isnt\n"
     ]
    }
   ],
   "source": [
    "# improving the model by removing stopwords\n",
    "from nltk.corpus import stopwords\n",
    "\n",
    "english_stopwords = stopwords.words('english')\n",
    "\n",
    "def remove_stopwords(corpus):\n",
    "    ret = []\n",
    "    for review in corpus:\n",
    "        ret.append(' '.join([word for word in review.split() if word not in english_stopwords]))\n",
    "    return ret    \n",
    "        \n",
    "no_stopwords = remove_stopwords = remove_stopwords(reviews_train_clean)\n",
    "print(no_stopwords[0])"
   ]
  },
  {
   "cell_type": "code",
   "execution_count": 56,
   "metadata": {},
   "outputs": [
    {
     "name": "stdout",
     "output_type": "stream",
     "text": [
      "bromwel high is a cartoon comedi it ran at the same time as some other program about school life such as teacher my 35 year in the teach profess lead me to believ that bromwel high satir is much closer to realiti than is teacher the scrambl to surviv financi the insight student who can see right through their pathet teacher pomp the petti of the whole situat all remind me of the school i knew and their student when i saw the episod in which a student repeatedli tri to burn down the school i immedi recal at high a classic line inspector im here to sack one of your teacher student welcom to bromwel high i expect that mani adult of my age think that bromwel high is far fetch what a piti that it isnt\n"
     ]
    }
   ],
   "source": [
    "# stemming \n",
    "def stem_corpus(corpus):\n",
    "    from nltk.stem.porter import PorterStemmer\n",
    "    stemmer = PorterStemmer()\n",
    "    return [' '.join([stemmer.stem(word)for word in review.split()]) for review in corpus]\n",
    "\n",
    "stemmed = stem_corpus(reviews_train_clean)\n",
    "print(stemmed[0])"
   ]
  },
  {
   "cell_type": "code",
   "execution_count": 57,
   "metadata": {},
   "outputs": [
    {
     "name": "stdout",
     "output_type": "stream",
     "text": [
      "bromwell high is a cartoon comedy it ran at the same time a some other program about school life such a teacher my 35 year in the teaching profession lead me to believe that bromwell high satire is much closer to reality than is teacher the scramble to survive financially the insightful student who can see right through their pathetic teacher pomp the pettiness of the whole situation all remind me of the school i knew and their student when i saw the episode in which a student repeatedly tried to burn down the school i immediately recalled at high a classic line inspector im here to sack one of your teacher student welcome to bromwell high i expect that many adult of my age think that bromwell high is far fetched what a pity that it isnt\n"
     ]
    }
   ],
   "source": [
    "# lemmatization\n",
    "def lemmatize_corpus(corpus):\n",
    "    from nltk.stem import WordNetLemmatizer\n",
    "    lemmatizer = WordNetLemmatizer()\n",
    "    return [' '.join([lemmatizer.lemmatize(word)for word in review.split()]) for review in corpus]\n",
    "\n",
    "lemmatized = lemmatize_corpus(reviews_train_clean)  \n",
    "print(lemmatized[0])"
   ]
  },
  {
   "cell_type": "code",
   "execution_count": 58,
   "metadata": {},
   "outputs": [
    {
     "name": "stdout",
     "output_type": "stream",
     "text": [
      "Accuracy for C = 0.01: 88.4%\n",
      "Accuracy for C = 0.05: 89.28%\n",
      "Accuracy for C = 0.25: 89.744%\n",
      "Accuracy for C = 0.5: 89.68%\n",
      "Accuracy for C = 1: 89.75999999999999%\n"
     ]
    }
   ],
   "source": [
    "# n-grams\n",
    "ngram_vectorizer = CountVectorizer(binary=True, ngram_range=(1,2))\n",
    "\n",
    "# todo ngram with different training sets that were developed above \n",
    "ngram_vectorizer.fit(reviews_train_clean)\n",
    "X = ngram_vectorizer.transform(reviews_train_clean)\n",
    "X_final_test = ngram_vectorizer.transform(reviews_test_clean)\n",
    "\n",
    "X_train, X_test, y_train, y_test = train_test_split(X, labels, train_size=0.75)\n",
    "\n",
    "for c in [0.01, 0.05, 0.25, 0.5, 1]:\n",
    "    lr = LogisticRegression(C=c, solver='liblinear')\n",
    "    lr.fit(X_train, y_train)\n",
    "    print('Accuracy for C = {}: {}%'.format(c, accuracy_score(y_test, lr.predict(X_test)) * 100))"
   ]
  },
  {
   "cell_type": "code",
   "execution_count": 59,
   "metadata": {},
   "outputs": [
    {
     "name": "stdout",
     "output_type": "stream",
     "text": [
      "Final Accuracy of 89.74%\n"
     ]
    }
   ],
   "source": [
    "ngrams_lr = LogisticRegression(C=1, solver='liblinear')\n",
    "ngrams_lr.fit(X, labels)\n",
    "print('Final Accuracy of {}%'.format(accuracy_score(labels, ngrams_lr.predict(X_final_test)) * 100))"
   ]
  },
  {
   "cell_type": "code",
   "execution_count": 60,
   "metadata": {},
   "outputs": [
    {
     "name": "stdout",
     "output_type": "stream",
     "text": [
      "Accuracy for C = 0.01: 86.992%\n",
      "Accuracy for C = 0.05: 87.83999999999999%\n",
      "Accuracy for C = 0.25: 87.728%\n",
      "Accuracy for C = 0.5: 87.856%\n",
      "Accuracy for C = 1: 87.664%\n"
     ]
    }
   ],
   "source": [
    "# word counts \n",
    "wc_vectorizer = CountVectorizer(binary=False)\n",
    "wc_vectorizer.fit(reviews_train_clean)\n",
    "X = wc_vectorizer.transform(reviews_train_clean)\n",
    "X_final_test = wc_vectorizer.transform(reviews_test_clean)\n",
    "\n",
    "X_train, X_test, y_train, y_test = train_test_split(X, labels, train_size=0.75)\n",
    "\n",
    "for c in [0.01, 0.05, 0.25, 0.5, 1]:\n",
    "    lr = LogisticRegression(C=c, solver='liblinear')\n",
    "    lr.fit(X_train, y_train)\n",
    "    print('Accuracy for C = {}: {}%'.format(c, accuracy_score(y_test, lr.predict(X_test)) * 100))"
   ]
  },
  {
   "cell_type": "code",
   "execution_count": 61,
   "metadata": {},
   "outputs": [
    {
     "name": "stdout",
     "output_type": "stream",
     "text": [
      "Final Accuracy of 88.22%\n"
     ]
    }
   ],
   "source": [
    "wc_lr = LogisticRegression(C=0.05, solver='liblinear')\n",
    "wc_lr.fit(X, labels)\n",
    "print('Final Accuracy of {}%'.format(accuracy_score(labels, wc_lr.predict(X_final_test)) * 100))"
   ]
  },
  {
   "cell_type": "code",
   "execution_count": 64,
   "metadata": {},
   "outputs": [
    {
     "name": "stdout",
     "output_type": "stream",
     "text": [
      "Accuracy for C = 0.01: 79.408%\n",
      "Accuracy for C = 0.05: 83.12%\n",
      "Accuracy for C = 0.25: 86.60799999999999%\n",
      "Accuracy for C = 0.5: 87.616%\n",
      "Accuracy for C = 1: 88.256%\n"
     ]
    }
   ],
   "source": [
    "# TF-IDF\n",
    "from sklearn.feature_extraction.text import TfidfVectorizer\n",
    "\n",
    "tfidf_vectorizer = TfidfVectorizer()\n",
    "tfidf_vectorizer.fit(reviews_train_clean)\n",
    "X = tfidf_vectorizer.transform(reviews_train_clean)\n",
    "X_final_test = tfidf_vectorizer.transform(reviews_test_clean)\n",
    "\n",
    "X_train, X_test, y_train, y_test = train_test_split(X, labels, train_size=0.75)\n",
    "\n",
    "for c in [0.01, 0.05, 0.25, 0.5, 1]:\n",
    "    lr = LogisticRegression(C=c, solver='liblinear')\n",
    "    lr.fit(X_train, y_train)\n",
    "    print('Accuracy for C = {}: {}%'.format(c, accuracy_score(y_test, lr.predict(X_test)) * 100))"
   ]
  },
  {
   "cell_type": "code",
   "execution_count": 65,
   "metadata": {},
   "outputs": [
    {
     "name": "stdout",
     "output_type": "stream",
     "text": [
      "Final Accuracy of 88.24%\n"
     ]
    }
   ],
   "source": [
    "tfidf_lr = LogisticRegression(C=1, solver='liblinear')\n",
    "tfidf_lr.fit(X, labels)\n",
    "print('Final Accuracy of {}%'.format(accuracy_score(labels, tfidf_lr.predict(X_final_test)) * 100))"
   ]
  },
  {
   "cell_type": "code",
   "execution_count": 70,
   "metadata": {
    "scrolled": true
   },
   "outputs": [
    {
     "name": "stdout",
     "output_type": "stream",
     "text": [
      "Accuracy for C = 0.01: 89.92%\n",
      "Accuracy for C = 0.05: 89.60000000000001%\n",
      "Accuracy for C = 0.25: 89.55199999999999%\n",
      "Accuracy for C = 0.5: 89.50399999999999%\n",
      "Accuracy for C = 1: 89.50399999999999%\n"
     ]
    }
   ],
   "source": [
    "import warnings\n",
    "warnings.filterwarnings(\"ignore\")\n",
    "\n",
    "# Svm\n",
    "from sklearn.svm import LinearSVC\n",
    "\n",
    "ngram_vectorizer = CountVectorizer(binary=True, ngram_range=(1,2))\n",
    "ngram_vectorizer.fit(reviews_train_clean)\n",
    "X = ngram_vectorizer.transform(reviews_train_clean)\n",
    "X_final_test = ngram_vectorizer.transform(reviews_test_clean)\n",
    "\n",
    "X_train, X_test, y_train, y_test = train_test_split(X, labels, train_size=0.75)\n",
    "\n",
    "for c in [0.01, 0.05, 0.25, 0.5, 1]:\n",
    "    svm = LinearSVC(C=c)\n",
    "    svm.fit(X_train, y_train)\n",
    "    print('Accuracy for C = {}: {}%'.format(c, accuracy_score(y_test, svm.predict(X_test)) * 100))\n"
   ]
  },
  {
   "cell_type": "code",
   "execution_count": 71,
   "metadata": {},
   "outputs": [
    {
     "name": "stdout",
     "output_type": "stream",
     "text": [
      "Final Accuracy of 89.708%\n"
     ]
    }
   ],
   "source": [
    "svm_final = LinearSVC(C=0.01)\n",
    "svm_final.fit(X, labels)\n",
    "print('Final Accuracy of {}%'.format(accuracy_score(labels, svm_final.predict(X_final_test)) * 100))"
   ]
  },
  {
   "cell_type": "code",
   "execution_count": 72,
   "metadata": {},
   "outputs": [
    {
     "name": "stdout",
     "output_type": "stream",
     "text": [
      "Accuracy for C = 0.01: 88.4%\n",
      "Accuracy for C = 0.05: 88.4%\n",
      "Accuracy for C = 0.25: 88.368%\n",
      "Accuracy for C = 0.5: 88.4%\n",
      "Accuracy for C = 1: 88.384%\n"
     ]
    }
   ],
   "source": [
    "import warnings\n",
    "warnings.filterwarnings(\"ignore\")\n",
    "\n",
    "# final Model\n",
    "stop_words = ['a', 'at', 'in', 'of', 'the']\n",
    "ngram_vectorizer = CountVectorizer(binary=True, ngram_range=(1,3), stop_words=stop_words)\n",
    "ngram_vectorizer.fit(reviews_train_clean)\n",
    "X = ngram_vectorizer.transform(reviews_train_clean)\n",
    "X_final_test = ngram_vectorizer.transform(reviews_test_clean)\n",
    "\n",
    "X_train, X_test, y_train, y_test = train_test_split(X, labels, train_size=0.75)\n",
    "\n",
    "for c in [0.01, 0.05, 0.25, 0.5, 1]:\n",
    "    svm = LinearSVC(C=c)\n",
    "    svm.fit(X_train, y_train)\n",
    "    print('Accuracy for C = {}: {}%'.format(c, accuracy_score(y_test, svm.predict(X_test)) * 100))"
   ]
  },
  {
   "cell_type": "code",
   "execution_count": 73,
   "metadata": {},
   "outputs": [
    {
     "name": "stdout",
     "output_type": "stream",
     "text": [
      "Final Accuracy of 90.024%\n"
     ]
    }
   ],
   "source": [
    "final = LinearSVC(C=0.01)\n",
    "final.fit(X, labels)\n",
    "print('Final Accuracy of {}%'.format(accuracy_score(labels, final.predict(X_final_test)) * 100))"
   ]
  }
 ],
 "metadata": {
  "kernelspec": {
   "display_name": "Python 3",
   "language": "python",
   "name": "python3"
  },
  "language_info": {
   "codemirror_mode": {
    "name": "ipython",
    "version": 3
   },
   "file_extension": ".py",
   "mimetype": "text/x-python",
   "name": "python",
   "nbconvert_exporter": "python",
   "pygments_lexer": "ipython3",
   "version": "3.7.4"
  }
 },
 "nbformat": 4,
 "nbformat_minor": 2
}
