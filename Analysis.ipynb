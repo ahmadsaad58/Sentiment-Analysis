{
 "cells": [
  {
   "cell_type": "markdown",
   "metadata": {},
   "source": [
    "## Sentiment Analysis for IMDB Movie Reviews using SKLearn\n",
    "\n",
    "The [dataset](http://ai.stanford.edu/~amaas/data/sentiment/) was compiled by Andrew Maas and had **50,000** movie reviews from IMDB. It is split into *25k* for training and *25k* for testing. The movie ratings on IMDB can range from 1 to 10. Movies with (less than or equal to) ≤ 4 stars are labeled as negative while movies with (greater than or equal to) ≥ 7 stars are labeled as positive. Reviews with 5 or 6 starts were left out of the dataset.\n",
    "\n",
    "I will use a cleaned up version of the dataset with just the ratings and reviews"
   ]
  },
  {
   "cell_type": "code",
   "execution_count": 19,
   "metadata": {},
   "outputs": [],
   "source": [
    "# create Train and Test \n",
    "reviews_train = [line.strip() for line in open('movie_data/full_train.txt', 'r')]\n",
    "reviews_test = [line.strip() for line in open('movie_data/full_test.txt', 'r')]"
   ]
  },
  {
   "cell_type": "code",
   "execution_count": 20,
   "metadata": {},
   "outputs": [],
   "source": [
    "# clean the data\n",
    "import re\n",
    "\n",
    "REPLACE_NO_SPACE = re.compile(\"[.;:!\\'?,\\\"()\\[\\]]\")\n",
    "REPLACE_SPACE = re.compile(\"(<br\\s*/><br\\s*/>)|(\\-)|(\\/)\")\n",
    "\n",
    "def preprocess_reviews(reviews):\n",
    "    reviews = [REPLACE_NO_SPACE.sub('', line.lower()) for line in reviews]\n",
    "    reviews = [REPLACE_SPACE.sub(' ', line) for line in reviews]\n",
    "    return reviews\n",
    "\n",
    "reviews_train_clean = preprocess_reviews(reviews_train)\n",
    "reviews_test_clean = preprocess_reviews(reviews_test)"
   ]
  },
  {
   "cell_type": "code",
   "execution_count": 21,
   "metadata": {},
   "outputs": [
    {
     "name": "stdout",
     "output_type": "stream",
     "text": [
      "yes its an art to successfully make a slow paced thriller the story unfolds in nice volumes while you dont even notice it happening fine performance by robin williams the sexuality angles in the film can seem unnecessary and can probably affect how much you enjoy the film however the core plot is very engaging the movie doesnt rush onto you and still grips you enough to keep you wondering the direction is good use of lights to achieve desired affects of suspense and unexpectedness is good very nice 1 time watch if you are looking to lay back and hear a thrilling short story\n"
     ]
    }
   ],
   "source": [
    "print(reviews_train_clean[6])"
   ]
  },
  {
   "cell_type": "code",
   "execution_count": 22,
   "metadata": {},
   "outputs": [],
   "source": [
    "# count vectorization \n",
    "from sklearn.feature_extraction.text import CountVectorizer\n",
    "\n",
    "cv = CountVectorizer(binary=True)\n",
    "cv.fit(reviews_train_clean)\n",
    "X = cv.transform(reviews_train_clean)\n",
    "X_final_test = cv.transform(reviews_test_clean)"
   ]
  },
  {
   "cell_type": "code",
   "execution_count": 27,
   "metadata": {},
   "outputs": [
    {
     "name": "stdout",
     "output_type": "stream",
     "text": [
      "Accuracy for C = 0.01: 87.29599999999999%\n",
      "Accuracy for C = 0.05: 88.336%\n",
      "Accuracy for C = 0.25: 88.27199999999999%\n",
      "Accuracy for C = 0.5: 88.0%\n",
      "Accuracy for C = 1: 87.792%\n"
     ]
    }
   ],
   "source": [
    "# building the model\n",
    "from sklearn.linear_model import LogisticRegression\n",
    "from sklearn.model_selection import train_test_split\n",
    "from sklearn.metrics import accuracy_score\n",
    "\n",
    "# first 12.5k are positive and next 12.5k are negative\n",
    "labels = [1 if i < 12500 else 0 for i in range(25000)]\n",
    "\n",
    "X_train, X_test, y_train, y_test = train_test_split(X, labels, train_size=0.75)\n",
    "\n",
    "for c in [0.01, 0.05, 0.25, 0.5, 1]:\n",
    "    lr = LogisticRegression(C=c, solver='liblinear')\n",
    "    lr.fit(X_train, y_train)\n",
    "    print('Accuracy for C = {}: {}%'.format(c, accuracy_score(y_test, lr.predict(X_test)) * 100))\n"
   ]
  },
  {
   "cell_type": "code",
   "execution_count": 28,
   "metadata": {},
   "outputs": [
    {
     "name": "stdout",
     "output_type": "stream",
     "text": [
      "Final Accuracy for 86.616%\n"
     ]
    }
   ],
   "source": [
    "# Testing the model\n",
    "final_lr = LogisticRegression(C=0.05)\n",
    "final_lr.fit(X, labels)\n",
    "print('Final Accuracy for {}%'.format(accuracy_score(labels, lr.predict(X_final_test)) * 100))"
   ]
  },
  {
   "cell_type": "code",
   "execution_count": 38,
   "metadata": {},
   "outputs": [
    {
     "name": "stdout",
     "output_type": "stream",
     "text": [
      "Best Positive Scores\n",
      "('excellent', 0.9292549111870664)\n",
      "('perfect', 0.7907005791290077)\n",
      "('great', 0.6745323547742257)\n",
      "('amazing', 0.6127039928254254)\n",
      "('superb', 0.6019368002203161)\n",
      "\n",
      "Best Negative Scores\n",
      "('worst', -1.3645958977380297)\n",
      "('waste', -1.166424205957553)\n",
      "('awful', -1.032418942642618)\n",
      "('poorly', -0.8752018765326353)\n",
      "('boring', -0.8563543412064868)\n"
     ]
    }
   ],
   "source": [
    "# Sanity Check\n",
    "feature_to_coef = {word: coef for word, coef in zip(cv.get_feature_names(), final_lr.coef_[0])}\n",
    "\n",
    "print('Best Positive Scores')\n",
    "for best_pos in sorted(feature_to_coef.items(), key=lambda x: x[1], reverse=True)[:5]:\n",
    "    print(best_pos)\n",
    "\n",
    "print('\\nBest Negative Scores')\n",
    "for best_neg in sorted(feature_to_coef.items(), key=lambda x: x[1])[:5]:\n",
    "    print(best_neg)                                             "
   ]
  }
 ],
 "metadata": {
  "kernelspec": {
   "display_name": "Python 3",
   "language": "python",
   "name": "python3"
  },
  "language_info": {
   "codemirror_mode": {
    "name": "ipython",
    "version": 3
   },
   "file_extension": ".py",
   "mimetype": "text/x-python",
   "name": "python",
   "nbconvert_exporter": "python",
   "pygments_lexer": "ipython3",
   "version": "3.7.4"
  }
 },
 "nbformat": 4,
 "nbformat_minor": 2
}
